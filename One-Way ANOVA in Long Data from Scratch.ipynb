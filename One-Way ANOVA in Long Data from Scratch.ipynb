{
 "cells": [
  {
   "cell_type": "code",
   "execution_count": 1,
   "id": "68b86f56",
   "metadata": {},
   "outputs": [],
   "source": [
    "import pandas as pd\n",
    "import numpy as np\n",
    "from scipy.stats import f"
   ]
  },
  {
   "cell_type": "code",
   "execution_count": 80,
   "id": "d4f9b6a6",
   "metadata": {},
   "outputs": [],
   "source": [
    "class Anova:\n",
    "\n",
    "    def __init__ (self):\n",
    "        self.f_stats = None\n",
    "        self.p_value =None\n",
    "\n",
    "    def fit(self, data, value_col, group_col):\n",
    "        self.data = data\n",
    "        self.value_col = value_col\n",
    "        self.group_col = group_col\n",
    "\n",
    "        groups = data[group_col].unique()\n",
    "        group_means = []\n",
    "        group_sizes = []\n",
    "        grand_mean = data[value_col].mean()\n",
    "\n",
    "        ssw = 0\n",
    "        for g in groups:\n",
    "            group_data = data[data[group_col] == g][value_col]\n",
    "            m = group_data.mean()\n",
    "            n = len(group_data)\n",
    "            ssw = ssw + ((group_data - m)**2).sum()\n",
    "\n",
    "            group_means.append(m)\n",
    "            group_sizes.append(n)\n",
    "\n",
    "        sst = 0\n",
    "        group_data = data[value_col]\n",
    "        sst = ((group_data - grand_mean)**2).sum()\n",
    "\n",
    "        ssb = sst - ssw\n",
    "\n",
    "        dfb = len(groups) - 1\n",
    "        dfw = len(data) - len(groups)\n",
    "\n",
    "        msb = ssb / dfb\n",
    "        msw = ssw / dfw\n",
    "\n",
    "        self.f_stats = msb / msw\n",
    "        self.p_value = 1 - f.cdf(self.f_stats, dfb, dfw)\n",
    "\n",
    "        print('F-Value: ', self.f_stats)\n",
    "        print('P-Value: ', self.p_value)\n",
    "\n",
    "    def predict(self):\n",
    "        if self.p_value < 0.05:\n",
    "            print(\"Reject the null hypothesis: At least one group mean is different.\")\n",
    "        else:\n",
    "            print(\"Fail to reject the null hypothesis: No significant difference between group means.\")"
   ]
  },
  {
   "cell_type": "code",
   "execution_count": 169,
   "id": "65fa5062",
   "metadata": {},
   "outputs": [],
   "source": [
    "model = Anova()"
   ]
  },
  {
   "cell_type": "code",
   "execution_count": 348,
   "id": "aae2a3cc",
   "metadata": {},
   "outputs": [
    {
     "name": "stdout",
     "output_type": "stream",
     "text": [
      "F-Value:  2.1534483317291757\n",
      "P-Value:  0.04571625283939107\n"
     ]
    }
   ],
   "source": [
    "df = pd.read_excel(r\"C:\\Users\\saqli\\Desktop\\FULL DataSet.xlsx\")\n",
    "df_replicate_2 = pd.read_excel(r\"C:\\Users\\saqli\\Downloads\\Replicate_1_Data.xlsx\")\n",
    "df_replicate_3 = pd.read_excel(r\"C:\\Users\\saqli\\Desktop\\df_replicate_3.xlsx\")\n",
    "df_replicate = pd.concat([df, df_replicate_3], ignore_index=True)\n",
    "model.fit(df_replicate, 'a', 'Treatment_code')"
   ]
  },
  {
   "cell_type": "code",
   "execution_count": 312,
   "id": "3d415e4f",
   "metadata": {},
   "outputs": [
    {
     "name": "stdout",
     "output_type": "stream",
     "text": [
      "F-Value:  1.7939199476186354\n",
      "P-Value:  0.09794618365779917\n"
     ]
    }
   ],
   "source": [
    "model.fit(df_replicate, 'a*', 'Treatment_code')"
   ]
  },
  {
   "cell_type": "code",
   "execution_count": 59,
   "id": "882138bb",
   "metadata": {},
   "outputs": [
    {
     "data": {
      "text/html": [
       "<div>\n",
       "<style scoped>\n",
       "    .dataframe tbody tr th:only-of-type {\n",
       "        vertical-align: middle;\n",
       "    }\n",
       "\n",
       "    .dataframe tbody tr th {\n",
       "        vertical-align: top;\n",
       "    }\n",
       "\n",
       "    .dataframe thead th {\n",
       "        text-align: right;\n",
       "    }\n",
       "</style>\n",
       "<table border=\"1\" class=\"dataframe\">\n",
       "  <thead>\n",
       "    <tr style=\"text-align: right;\">\n",
       "      <th></th>\n",
       "      <th>Treatment_code</th>\n",
       "      <th>Treatment</th>\n",
       "      <th>Alginate</th>\n",
       "      <th>Guargum</th>\n",
       "      <th>Pectin</th>\n",
       "      <th>Days</th>\n",
       "      <th>Weight_loss</th>\n",
       "      <th>Firmness</th>\n",
       "      <th>TSS</th>\n",
       "      <th>pH</th>\n",
       "      <th>L*</th>\n",
       "      <th>a*</th>\n",
       "      <th>b*</th>\n",
       "      <th>delta_E</th>\n",
       "      <th>TPC</th>\n",
       "      <th>DPPH</th>\n",
       "    </tr>\n",
       "  </thead>\n",
       "  <tbody>\n",
       "    <tr>\n",
       "      <th>0</th>\n",
       "      <td>Control</td>\n",
       "      <td>0</td>\n",
       "      <td>0.0</td>\n",
       "      <td>0.0</td>\n",
       "      <td>0.0</td>\n",
       "      <td>2</td>\n",
       "      <td>18.19776</td>\n",
       "      <td>468.69</td>\n",
       "      <td>4.76</td>\n",
       "      <td>4.11</td>\n",
       "      <td>15.48</td>\n",
       "      <td>6.85</td>\n",
       "      <td>18.87</td>\n",
       "      <td>6.508748</td>\n",
       "      <td>716.88</td>\n",
       "      <td>123.2</td>\n",
       "    </tr>\n",
       "    <tr>\n",
       "      <th>1</th>\n",
       "      <td>x1</td>\n",
       "      <td>1</td>\n",
       "      <td>3.0</td>\n",
       "      <td>0.0</td>\n",
       "      <td>0.0</td>\n",
       "      <td>2</td>\n",
       "      <td>18.43008</td>\n",
       "      <td>500.96</td>\n",
       "      <td>4.85</td>\n",
       "      <td>4.07</td>\n",
       "      <td>16.47</td>\n",
       "      <td>7.51</td>\n",
       "      <td>19.52</td>\n",
       "      <td>4.172649</td>\n",
       "      <td>498.13</td>\n",
       "      <td>120.1</td>\n",
       "    </tr>\n",
       "    <tr>\n",
       "      <th>2</th>\n",
       "      <td>x2</td>\n",
       "      <td>2</td>\n",
       "      <td>0.0</td>\n",
       "      <td>3.0</td>\n",
       "      <td>0.0</td>\n",
       "      <td>2</td>\n",
       "      <td>18.33792</td>\n",
       "      <td>513.90</td>\n",
       "      <td>4.80</td>\n",
       "      <td>4.08</td>\n",
       "      <td>15.93</td>\n",
       "      <td>6.98</td>\n",
       "      <td>19.46</td>\n",
       "      <td>5.339110</td>\n",
       "      <td>436.88</td>\n",
       "      <td>161.5</td>\n",
       "    </tr>\n",
       "    <tr>\n",
       "      <th>3</th>\n",
       "      <td>x3</td>\n",
       "      <td>3</td>\n",
       "      <td>0.0</td>\n",
       "      <td>0.0</td>\n",
       "      <td>3.0</td>\n",
       "      <td>2</td>\n",
       "      <td>18.47232</td>\n",
       "      <td>591.24</td>\n",
       "      <td>5.04</td>\n",
       "      <td>4.11</td>\n",
       "      <td>17.41</td>\n",
       "      <td>8.42</td>\n",
       "      <td>19.81</td>\n",
       "      <td>2.965586</td>\n",
       "      <td>413.13</td>\n",
       "      <td>162.3</td>\n",
       "    </tr>\n",
       "    <tr>\n",
       "      <th>4</th>\n",
       "      <td>x1*x2</td>\n",
       "      <td>4</td>\n",
       "      <td>1.5</td>\n",
       "      <td>1.5</td>\n",
       "      <td>0.0</td>\n",
       "      <td>2</td>\n",
       "      <td>18.60288</td>\n",
       "      <td>632.79</td>\n",
       "      <td>5.10</td>\n",
       "      <td>4.05</td>\n",
       "      <td>17.84</td>\n",
       "      <td>8.73</td>\n",
       "      <td>19.89</td>\n",
       "      <td>2.567820</td>\n",
       "      <td>384.41</td>\n",
       "      <td>164.2</td>\n",
       "    </tr>\n",
       "  </tbody>\n",
       "</table>\n",
       "</div>"
      ],
      "text/plain": [
       "  Treatment_code  Treatment  Alginate  Guargum  Pectin  Days  Weight_loss  \\\n",
       "0        Control          0       0.0      0.0     0.0     2     18.19776   \n",
       "1             x1          1       3.0      0.0     0.0     2     18.43008   \n",
       "2             x2          2       0.0      3.0     0.0     2     18.33792   \n",
       "3             x3          3       0.0      0.0     3.0     2     18.47232   \n",
       "4          x1*x2          4       1.5      1.5     0.0     2     18.60288   \n",
       "\n",
       "   Firmness   TSS    pH     L*    a*     b*   delta_E     TPC   DPPH  \n",
       "0    468.69  4.76  4.11  15.48  6.85  18.87  6.508748  716.88  123.2  \n",
       "1    500.96  4.85  4.07  16.47  7.51  19.52  4.172649  498.13  120.1  \n",
       "2    513.90  4.80  4.08  15.93  6.98  19.46  5.339110  436.88  161.5  \n",
       "3    591.24  5.04  4.11  17.41  8.42  19.81  2.965586  413.13  162.3  \n",
       "4    632.79  5.10  4.05  17.84  8.73  19.89  2.567820  384.41  164.2  "
      ]
     },
     "execution_count": 59,
     "metadata": {},
     "output_type": "execute_result"
    }
   ],
   "source": [
    "df_replicate.head()"
   ]
  },
  {
   "cell_type": "code",
   "execution_count": 79,
   "id": "c105748c",
   "metadata": {},
   "outputs": [
    {
     "name": "stdout",
     "output_type": "stream",
     "text": [
      "F-Value:  0.9058536903193141\n",
      "P-Value:  0.5177130209920946\n"
     ]
    }
   ],
   "source": [
    "model.fit(df,'TSS', 'Treatment_code')"
   ]
  },
  {
   "cell_type": "code",
   "execution_count": 49,
   "id": "6996f55b",
   "metadata": {},
   "outputs": [
    {
     "name": "stdout",
     "output_type": "stream",
     "text": [
      "F-Value:  0.5510854595215698\n",
      "P-Value:  0.7875660527710227\n"
     ]
    }
   ],
   "source": [
    "model.fit(df, 'DPPH', 'Treatment_code')"
   ]
  },
  {
   "cell_type": "code",
   "execution_count": null,
   "id": "6a7052c2",
   "metadata": {},
   "outputs": [],
   "source": []
  },
  {
   "cell_type": "code",
   "execution_count": null,
   "id": "369b6a52",
   "metadata": {},
   "outputs": [],
   "source": []
  }
 ],
 "metadata": {
  "kernelspec": {
   "display_name": "base",
   "language": "python",
   "name": "python3"
  },
  "language_info": {
   "codemirror_mode": {
    "name": "ipython",
    "version": 3
   },
   "file_extension": ".py",
   "mimetype": "text/x-python",
   "name": "python",
   "nbconvert_exporter": "python",
   "pygments_lexer": "ipython3",
   "version": "3.12.7"
  }
 },
 "nbformat": 4,
 "nbformat_minor": 5
}
