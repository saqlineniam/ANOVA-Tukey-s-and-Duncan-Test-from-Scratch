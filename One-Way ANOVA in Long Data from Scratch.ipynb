{
 "cells": [
  {
   "cell_type": "code",
   "execution_count": 2,
   "id": "68b86f56",
   "metadata": {},
   "outputs": [],
   "source": [
    "import pandas as pd\n",
    "import numpy as np\n",
    "from scipy.stats import f"
   ]
  },
  {
   "cell_type": "code",
   "execution_count": 6,
   "id": "d4f9b6a6",
   "metadata": {},
   "outputs": [],
   "source": [
    "class Anova:\n",
    "\n",
    "    def __init__ (self):\n",
    "        self.f_stats = None\n",
    "        self.p_value =None\n",
    "\n",
    "    def fit(self, data, value_col, group_col):\n",
    "        self.data = data\n",
    "        self.value_col = value_col\n",
    "        self.group_col = group_col\n",
    "\n",
    "        groups = data[group_col].unique()\n",
    "        group_means = []\n",
    "        group_sizes = []\n",
    "        grand_mean = data[value_col].mean()\n",
    "\n",
    "        ssw = 0\n",
    "        for g in groups:\n",
    "            group_data = data[data[group_col] == g][value_col]\n",
    "            m = group_data.mean()\n",
    "            n = len(group_data)\n",
    "            ssw = ssw + ((group_data - m)**2).sum()\n",
    "\n",
    "            group_means.append(m)\n",
    "            group_sizes.append(n)\n",
    "\n",
    "        sst = 0\n",
    "        group_data = data[value_col]\n",
    "        sst = ((group_data - grand_mean)**2).sum()\n",
    "\n",
    "        ssb = sst - ssw\n",
    "\n",
    "        dfb = len(groups) - 1\n",
    "        dfw = len(data) - len(groups)\n",
    "\n",
    "        msb = ssb / dfb\n",
    "        msw = ssw / dfw\n",
    "\n",
    "        self.f_stats = msb / msw\n",
    "        self.p_value = 1 - f.cdf(self.f_stats, dfb, dfw)\n",
    "\n",
    "        print('F-Value: ', self.f_stats)\n",
    "        print('P-Value: ', self.p_value)\n",
    "\n",
    "    def predict(self):\n",
    "        if self.p_value < 0.05:\n",
    "            print(\"Reject the null hypothesis: At least one group mean is different.\")\n",
    "        else:\n",
    "            print(\"Fail to reject the null hypothesis: No significant difference between group means.\")"
   ]
  },
  {
   "cell_type": "code",
   "execution_count": 11,
   "id": "cc7a4550",
   "metadata": {},
   "outputs": [
    {
     "name": "stdout",
     "output_type": "stream",
     "text": [
      "  Method  Score\n",
      "0      A     82\n",
      "1      A     85\n",
      "2      A     88\n",
      "3      B     78\n",
      "4      B     79\n",
      "5      B     80\n",
      "6      C     90\n",
      "7      C     92\n",
      "8      C     94\n"
     ]
    }
   ],
   "source": [
    "data = pd.DataFrame({\n",
    "    'Method': ['A', 'A', 'A', 'B', 'B', 'B', 'C', 'C', 'C'],\n",
    "    'Score': [82, 85, 88, 78, 79, 80, 90, 92, 94]\n",
    "})\n",
    "\n",
    "print(data)"
   ]
  },
  {
   "cell_type": "code",
   "execution_count": 9,
   "id": "65fa5062",
   "metadata": {},
   "outputs": [],
   "source": [
    "model = Anova()"
   ]
  },
  {
   "cell_type": "code",
   "execution_count": 7,
   "id": "490c2098",
   "metadata": {},
   "outputs": [
    {
     "ename": "NameError",
     "evalue": "name 'model' is not defined",
     "output_type": "error",
     "traceback": [
      "\u001b[1;31m---------------------------------------------------------------------------\u001b[0m",
      "\u001b[1;31mNameError\u001b[0m                                 Traceback (most recent call last)",
      "Cell \u001b[1;32mIn[7], line 1\u001b[0m\n\u001b[1;32m----> 1\u001b[0m model\u001b[38;5;241m.\u001b[39mfit(data, \u001b[38;5;124m'\u001b[39m\u001b[38;5;124mScore\u001b[39m\u001b[38;5;124m'\u001b[39m, \u001b[38;5;124m'\u001b[39m\u001b[38;5;124mMethod\u001b[39m\u001b[38;5;124m'\u001b[39m)\n\u001b[0;32m      2\u001b[0m \u001b[38;5;28mprint\u001b[39m(model\u001b[38;5;241m.\u001b[39mpredict())\n",
      "\u001b[1;31mNameError\u001b[0m: name 'model' is not defined"
     ]
    }
   ],
   "source": [
    "model.fit(data, 'Score', 'Method')\n",
    "print(model.predict())"
   ]
  },
  {
   "cell_type": "code",
   "execution_count": 3,
   "id": "aae2a3cc",
   "metadata": {},
   "outputs": [],
   "source": [
    "df = pd.read_excel(r\"C:\\Users\\saqli\\Desktop\\FULL DataSet.xlsx\")"
   ]
  },
  {
   "cell_type": "code",
   "execution_count": 10,
   "id": "3d415e4f",
   "metadata": {},
   "outputs": [
    {
     "name": "stdout",
     "output_type": "stream",
     "text": [
      "F-Value:  91.51287860203452\n",
      "P-Value:  3.4416913763379853e-15\n"
     ]
    }
   ],
   "source": [
    "model.fit(df, 'delta_E', 'Days')"
   ]
  },
  {
   "cell_type": "code",
   "execution_count": 12,
   "id": "c105748c",
   "metadata": {},
   "outputs": [
    {
     "name": "stdout",
     "output_type": "stream",
     "text": [
      "F-Value:  25.36571516022681\n",
      "P-Value:  2.267131382627241e-08\n"
     ]
    }
   ],
   "source": [
    "model.fit(df,'TSS', 'Days')"
   ]
  },
  {
   "cell_type": "code",
   "execution_count": 16,
   "id": "6996f55b",
   "metadata": {},
   "outputs": [
    {
     "name": "stdout",
     "output_type": "stream",
     "text": [
      "F-Value:  34.497184395764926\n",
      "P-Value:  7.49452722104138e-10\n"
     ]
    }
   ],
   "source": [
    "model.fit(df, 'Firmness', 'Days')"
   ]
  },
  {
   "cell_type": "code",
   "execution_count": null,
   "id": "6a7052c2",
   "metadata": {},
   "outputs": [],
   "source": []
  },
  {
   "cell_type": "code",
   "execution_count": 4,
   "id": "7031aa1e",
   "metadata": {},
   "outputs": [
    {
     "data": {
      "text/html": [
       "<div>\n",
       "<style scoped>\n",
       "    .dataframe tbody tr th:only-of-type {\n",
       "        vertical-align: middle;\n",
       "    }\n",
       "\n",
       "    .dataframe tbody tr th {\n",
       "        vertical-align: top;\n",
       "    }\n",
       "\n",
       "    .dataframe thead th {\n",
       "        text-align: right;\n",
       "    }\n",
       "</style>\n",
       "<table border=\"1\" class=\"dataframe\">\n",
       "  <thead>\n",
       "    <tr style=\"text-align: right;\">\n",
       "      <th></th>\n",
       "      <th>Alginate</th>\n",
       "      <th>Guargum</th>\n",
       "      <th>Pectin</th>\n",
       "      <th>Days</th>\n",
       "      <th>Weight_loss</th>\n",
       "      <th>Firmness</th>\n",
       "      <th>TSS</th>\n",
       "      <th>pH</th>\n",
       "      <th>L*</th>\n",
       "      <th>a*</th>\n",
       "      <th>b*</th>\n",
       "      <th>delta_E</th>\n",
       "      <th>TPC</th>\n",
       "      <th>DPPH</th>\n",
       "    </tr>\n",
       "  </thead>\n",
       "  <tbody>\n",
       "    <tr>\n",
       "      <th>0</th>\n",
       "      <td>0.0</td>\n",
       "      <td>0.0</td>\n",
       "      <td>0.0</td>\n",
       "      <td>0</td>\n",
       "      <td>0.00000</td>\n",
       "      <td>721.00</td>\n",
       "      <td>7.90</td>\n",
       "      <td>4.12</td>\n",
       "      <td>19.62</td>\n",
       "      <td>9.51</td>\n",
       "      <td>21.46</td>\n",
       "      <td>0.000000</td>\n",
       "      <td>510.83</td>\n",
       "      <td>67.76</td>\n",
       "    </tr>\n",
       "    <tr>\n",
       "      <th>1</th>\n",
       "      <td>0.0</td>\n",
       "      <td>0.0</td>\n",
       "      <td>0.0</td>\n",
       "      <td>2</td>\n",
       "      <td>18.19776</td>\n",
       "      <td>468.69</td>\n",
       "      <td>4.76</td>\n",
       "      <td>4.11</td>\n",
       "      <td>15.48</td>\n",
       "      <td>6.85</td>\n",
       "      <td>18.87</td>\n",
       "      <td>6.508748</td>\n",
       "      <td>716.88</td>\n",
       "      <td>123.20</td>\n",
       "    </tr>\n",
       "    <tr>\n",
       "      <th>2</th>\n",
       "      <td>3.0</td>\n",
       "      <td>0.0</td>\n",
       "      <td>0.0</td>\n",
       "      <td>2</td>\n",
       "      <td>18.43008</td>\n",
       "      <td>500.96</td>\n",
       "      <td>4.85</td>\n",
       "      <td>4.07</td>\n",
       "      <td>16.47</td>\n",
       "      <td>7.51</td>\n",
       "      <td>19.52</td>\n",
       "      <td>4.172649</td>\n",
       "      <td>498.13</td>\n",
       "      <td>120.10</td>\n",
       "    </tr>\n",
       "    <tr>\n",
       "      <th>3</th>\n",
       "      <td>0.0</td>\n",
       "      <td>3.0</td>\n",
       "      <td>0.0</td>\n",
       "      <td>2</td>\n",
       "      <td>18.33792</td>\n",
       "      <td>513.90</td>\n",
       "      <td>4.80</td>\n",
       "      <td>4.08</td>\n",
       "      <td>15.93</td>\n",
       "      <td>6.98</td>\n",
       "      <td>19.46</td>\n",
       "      <td>5.339110</td>\n",
       "      <td>436.88</td>\n",
       "      <td>161.50</td>\n",
       "    </tr>\n",
       "    <tr>\n",
       "      <th>4</th>\n",
       "      <td>0.0</td>\n",
       "      <td>0.0</td>\n",
       "      <td>3.0</td>\n",
       "      <td>2</td>\n",
       "      <td>18.47232</td>\n",
       "      <td>591.24</td>\n",
       "      <td>5.04</td>\n",
       "      <td>4.11</td>\n",
       "      <td>17.41</td>\n",
       "      <td>8.42</td>\n",
       "      <td>19.81</td>\n",
       "      <td>2.965586</td>\n",
       "      <td>413.13</td>\n",
       "      <td>162.30</td>\n",
       "    </tr>\n",
       "  </tbody>\n",
       "</table>\n",
       "</div>"
      ],
      "text/plain": [
       "   Alginate  Guargum  Pectin  Days  Weight_loss  Firmness   TSS    pH     L*  \\\n",
       "0       0.0      0.0     0.0     0      0.00000    721.00  7.90  4.12  19.62   \n",
       "1       0.0      0.0     0.0     2     18.19776    468.69  4.76  4.11  15.48   \n",
       "2       3.0      0.0     0.0     2     18.43008    500.96  4.85  4.07  16.47   \n",
       "3       0.0      3.0     0.0     2     18.33792    513.90  4.80  4.08  15.93   \n",
       "4       0.0      0.0     3.0     2     18.47232    591.24  5.04  4.11  17.41   \n",
       "\n",
       "     a*     b*   delta_E     TPC    DPPH  \n",
       "0  9.51  21.46  0.000000  510.83   67.76  \n",
       "1  6.85  18.87  6.508748  716.88  123.20  \n",
       "2  7.51  19.52  4.172649  498.13  120.10  \n",
       "3  6.98  19.46  5.339110  436.88  161.50  \n",
       "4  8.42  19.81  2.965586  413.13  162.30  "
      ]
     },
     "execution_count": 4,
     "metadata": {},
     "output_type": "execute_result"
    }
   ],
   "source": [
    "df.head()"
   ]
  },
  {
   "cell_type": "code",
   "execution_count": null,
   "id": "369b6a52",
   "metadata": {},
   "outputs": [],
   "source": []
  }
 ],
 "metadata": {
  "kernelspec": {
   "display_name": "base",
   "language": "python",
   "name": "python3"
  },
  "language_info": {
   "codemirror_mode": {
    "name": "ipython",
    "version": 3
   },
   "file_extension": ".py",
   "mimetype": "text/x-python",
   "name": "python",
   "nbconvert_exporter": "python",
   "pygments_lexer": "ipython3",
   "version": "3.12.7"
  }
 },
 "nbformat": 4,
 "nbformat_minor": 5
}
