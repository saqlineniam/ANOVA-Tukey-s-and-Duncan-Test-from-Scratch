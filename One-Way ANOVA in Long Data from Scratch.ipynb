{
 "cells": [
  {
   "cell_type": "code",
   "execution_count": 1,
   "id": "68b86f56",
   "metadata": {},
   "outputs": [],
   "source": [
    "import pandas as pd\n",
    "import numpy as np\n",
    "from scipy.stats import f"
   ]
  },
  {
   "cell_type": "code",
   "execution_count": 10,
   "id": "d4f9b6a6",
   "metadata": {},
   "outputs": [],
   "source": [
    "class Anova:\n",
    "\n",
    "    def __init__ (self):\n",
    "        self.f_stats = None\n",
    "        self.p_value =None\n",
    "\n",
    "    def fit(self, data, value_col, group_col):\n",
    "        self.data = data\n",
    "        self.value_col = value_col\n",
    "        self.group_col = group_col\n",
    "\n",
    "        groups = data[group_col].unique()\n",
    "        group_means = []\n",
    "        group_sizes = []\n",
    "        grand_mean = data[value_col].mean()\n",
    "\n",
    "        ssw = 0\n",
    "        for g in groups:\n",
    "            group_data = data[data[group_col] == g][value_col]\n",
    "            m = group_data.mean()\n",
    "            n = len(group_data)\n",
    "            ssw = ssw + ((group_data - m)**2).sum()\n",
    "\n",
    "            group_means.append(m)\n",
    "            group_sizes.append(n)\n",
    "\n",
    "        sst = 0\n",
    "        group_data = data[value_col]\n",
    "        sst = ((group_data - grand_mean)**2).sum()\n",
    "\n",
    "        ssb = sst - ssw\n",
    "\n",
    "        dfb = len(groups) - 1\n",
    "        dfw = len(data) - len(groups)\n",
    "\n",
    "        msb = ssb / dfb\n",
    "        msw = ssw / dfw\n",
    "\n",
    "        self.f_stats = msb / msw\n",
    "        self.p_value = 1 - f.cdf(self.f_stats, dfb, dfw)\n",
    "\n",
    "        print('F-Value: ', self.f_stats)\n",
    "        print('P-Value: ', self.p_value)\n",
    "\n",
    "    def predict(self):\n",
    "        if self.p_value < 0.05:\n",
    "            print(\"Reject the null hypothesis: At least one group mean is different.\")\n",
    "        else:\n",
    "            print(\"Fail to reject the null hypothesis: No significant difference between group means.\")"
   ]
  },
  {
   "cell_type": "code",
   "execution_count": 11,
   "id": "cc7a4550",
   "metadata": {},
   "outputs": [
    {
     "name": "stdout",
     "output_type": "stream",
     "text": [
      "  Method  Score\n",
      "0      A     82\n",
      "1      A     85\n",
      "2      A     88\n",
      "3      B     78\n",
      "4      B     79\n",
      "5      B     80\n",
      "6      C     90\n",
      "7      C     92\n",
      "8      C     94\n"
     ]
    }
   ],
   "source": [
    "data = pd.DataFrame({\n",
    "    'Method': ['A', 'A', 'A', 'B', 'B', 'B', 'C', 'C', 'C'],\n",
    "    'Score': [82, 85, 88, 78, 79, 80, 90, 92, 94]\n",
    "})\n",
    "\n",
    "print(data)"
   ]
  },
  {
   "cell_type": "code",
   "execution_count": 12,
   "id": "65fa5062",
   "metadata": {},
   "outputs": [],
   "source": [
    "model = Anova()"
   ]
  },
  {
   "cell_type": "code",
   "execution_count": 13,
   "id": "490c2098",
   "metadata": {},
   "outputs": [
    {
     "name": "stdout",
     "output_type": "stream",
     "text": [
      "F-Value:  27.21428571428571\n",
      "P-Value:  0.0009788739453649997\n",
      "Reject the null hypothesis: At least one group mean is different.\n",
      "None\n"
     ]
    }
   ],
   "source": [
    "model.fit(data, 'Score', 'Method')\n",
    "print(model.predict())"
   ]
  },
  {
   "cell_type": "code",
   "execution_count": null,
   "id": "3d415e4f",
   "metadata": {},
   "outputs": [],
   "source": []
  }
 ],
 "metadata": {
  "kernelspec": {
   "display_name": "base",
   "language": "python",
   "name": "python3"
  },
  "language_info": {
   "codemirror_mode": {
    "name": "ipython",
    "version": 3
   },
   "file_extension": ".py",
   "mimetype": "text/x-python",
   "name": "python",
   "nbconvert_exporter": "python",
   "pygments_lexer": "ipython3",
   "version": "3.12.7"
  }
 },
 "nbformat": 4,
 "nbformat_minor": 5
}
