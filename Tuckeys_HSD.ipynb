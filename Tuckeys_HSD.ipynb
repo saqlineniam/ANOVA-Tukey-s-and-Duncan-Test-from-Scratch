{
 "cells": [
  {
   "cell_type": "code",
   "execution_count": 11,
   "id": "42da1a2f",
   "metadata": {},
   "outputs": [],
   "source": [
    "import pandas as pd\n",
    "import numpy as np\n",
    "from scipy.stats import studentized_range"
   ]
  },
  {
   "cell_type": "code",
   "execution_count": 21,
   "id": "dcaaee04",
   "metadata": {},
   "outputs": [],
   "source": [
    "from scipy.stats import studentized_range\n",
    "import numpy as np\n",
    "\n",
    "class TukeyHSD:\n",
    "\tdef __init__(self):\n",
    "\t\tself.result = []\n",
    "\n",
    "\tdef fit(self, data, value_col, group_col, alpha = 0.05):\n",
    "\t\tself.data = data\n",
    "\t\tself.value_col = value_col\n",
    "\t\tself.group_col = group_col\n",
    "\t\tself.alpha = alpha\n",
    "\n",
    "\t\tgroups = data[group_col].unique()\n",
    "\t\tgroup_means = data.groupby(group_col)[value_col].mean()\n",
    "\t\tgroup_sizes = data.groupby(group_col)[value_col].count()\n",
    "\n",
    "\t\tdfw = len(data) - len(groups)\n",
    "\n",
    "\t\t# Compute MSW (Mean Square Within)\n",
    "\t\tssw = 0\n",
    "\t\tfor g in groups:\n",
    "\t\t\tgroup_data = data[data[group_col] == g][value_col]\n",
    "\t\t\tm = group_data.mean()\n",
    "\t\t\tssw += ((group_data - m) ** 2).sum()\n",
    "\n",
    "\t\tmsw = ssw / dfw\n",
    "\n",
    "\t\t# Pairwise comparisons\n",
    "\t\tfor i in range(len(groups)):\n",
    "\t\t\tfor j in range(i + 1, len(groups)):\n",
    "\t\t\t\tg1 = groups[i]\n",
    "\t\t\t\tg2 = groups[j]\n",
    "\n",
    "\t\t\t\tmean1 = group_means[g1]\n",
    "\t\t\t\tmean2 = group_means[g2]\n",
    "\t\t\t\tn1 = group_sizes[g1]\n",
    "\t\t\t\tn2 = group_sizes[g2]\n",
    "\n",
    "\t\t\t\tmean_diff = abs(mean1 - mean2)\n",
    "\t\t\t\tse = np.sqrt(msw * (1/n1 + 1/n2))  # supports unequal sizes\n",
    "\t\t\t\tq_stat = mean_diff / se\n",
    "\n",
    "\t\t\t\tq_crit = studentized_range.ppf(1 - alpha, len(groups), dfw)\n",
    "\t\t\t\tsignificant = q_stat > q_crit\n",
    "\n",
    "\t\t\t\tresult = {\n",
    "\t\t\t\t\t'Group 1': g1,\n",
    "\t\t\t\t\t'Group 2': g2,\n",
    "\t\t\t\t\t'Mean1': round(mean1, 2),\n",
    "\t\t\t\t\t'Mean2': round(mean2, 2),\n",
    "\t\t\t\t\t'Mean Diff': round(mean_diff, 2),\n",
    "\t\t\t\t\t'q stat': round(q_stat, 3),\n",
    "\t\t\t\t\t'q crit': round(q_crit, 3),\n",
    "\t\t\t\t\t'Significant': significant\n",
    "\t\t\t\t}\n",
    "\n",
    "\t\t\t\tself.result.append(result)\n",
    "\n",
    "\tdef summary(self):\n",
    "\t\tfor r in self.result:\n",
    "\t\t\tprint(f\"Group 1: {r['Group 1']}, Group 2: {r['Group 2']}, \"\n",
    "\t\t\t\t  f\"Mean1: {r['Mean1']}, Mean2: {r['Mean2']}, \"\n",
    "\t\t\t\t  f\"Mean Diff: {r['Mean Diff']}, \"\n",
    "\t\t\t\t  f\"Q Stat: {r['q stat']}, Q Crit: {r['q crit']}, \"\n",
    "\t\t\t\t  f\"Significant: {'Yes' if r['Significant'] else 'No'}\")\n"
   ]
  },
  {
   "cell_type": "code",
   "execution_count": 17,
   "id": "36cfe152",
   "metadata": {},
   "outputs": [],
   "source": [
    "data = pd.DataFrame({\n",
    "    'Method': ['A', 'A', 'A', 'B', 'B', 'B', 'C', 'C', 'C', 'D', 'D', 'D'],\n",
    "    'Score':  [82, 85, 88, 78, 79, 80, 90, 92, 94, 84, 86, 85]\n",
    "})"
   ]
  },
  {
   "cell_type": "code",
   "execution_count": 20,
   "id": "e0c1a5e5",
   "metadata": {},
   "outputs": [
    {
     "name": "stdout",
     "output_type": "stream",
     "text": [
      "Group 1: A, Group 2: B, Mean1: 85.0, Mean2: 79.0, Mean Diff: 6.0, Q Stat: 3.795, Q Crit: 4.529, Significant: No\n",
      "Group 1: A, Group 2: C, Mean1: 85.0, Mean2: 92.0, Mean Diff: 7.0, Q Stat: 4.427, Q Crit: 4.529, Significant: No\n",
      "Group 1: A, Group 2: D, Mean1: 85.0, Mean2: 85.0, Mean Diff: 0.0, Q Stat: 0.0, Q Crit: 4.529, Significant: No\n",
      "Group 1: B, Group 2: C, Mean1: 79.0, Mean2: 92.0, Mean Diff: 13.0, Q Stat: 8.222, Q Crit: 4.529, Significant: Yes\n",
      "Group 1: B, Group 2: D, Mean1: 79.0, Mean2: 85.0, Mean Diff: 6.0, Q Stat: 3.795, Q Crit: 4.529, Significant: No\n",
      "Group 1: C, Group 2: D, Mean1: 92.0, Mean2: 85.0, Mean Diff: 7.0, Q Stat: 4.427, Q Crit: 4.529, Significant: No\n"
     ]
    }
   ],
   "source": [
    "tukey = TukeyHSD()\n",
    "tukey.fit(data, value_col='Score', group_col='Method')\n",
    "tukey.summary()"
   ]
  },
  {
   "cell_type": "code",
   "execution_count": null,
   "id": "aa00ad5b",
   "metadata": {},
   "outputs": [],
   "source": []
  }
 ],
 "metadata": {
  "kernelspec": {
   "display_name": "base",
   "language": "python",
   "name": "python3"
  },
  "language_info": {
   "codemirror_mode": {
    "name": "ipython",
    "version": 3
   },
   "file_extension": ".py",
   "mimetype": "text/x-python",
   "name": "python",
   "nbconvert_exporter": "python",
   "pygments_lexer": "ipython3",
   "version": "3.12.7"
  }
 },
 "nbformat": 4,
 "nbformat_minor": 5
}
