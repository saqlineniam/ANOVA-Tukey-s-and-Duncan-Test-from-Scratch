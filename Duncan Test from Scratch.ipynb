{
 "cells": [
  {
   "cell_type": "markdown",
   "id": "f01b3693",
   "metadata": {},
   "source": [
    "Group Size are Equal"
   ]
  },
  {
   "cell_type": "code",
   "execution_count": 6,
   "id": "96406513",
   "metadata": {},
   "outputs": [],
   "source": [
    "import numpy as np\n",
    "import pandas as pd\n",
    "from scipy.stats import f, studentized_range"
   ]
  },
  {
   "cell_type": "code",
   "execution_count": 52,
   "id": "f864ec72",
   "metadata": {},
   "outputs": [],
   "source": [
    "class Duncan:\n",
    "    \n",
    "    def __init__(self):\n",
    "        self.f_stats = None\n",
    "        self.p_value = None\n",
    "        self.group_means = []\n",
    "        self.group_sizes = []\n",
    "        self.msw = None\n",
    "        self.msb = None\n",
    "        self.dcr = None\n",
    "        self.se = None\n",
    "        self.df_within = None\n",
    "        self.duncan_results = []  # Store results here\n",
    "\n",
    "    # Fit the ANOVA model to the data\n",
    "    def fit(self, data, value_col, group_col):\n",
    "        self.data = data\n",
    "        self.value_col = value_col\n",
    "        self.group_col = group_col\n",
    "\n",
    "        # Get unique groups and their respective means and sizes\n",
    "        groups = data[group_col].unique()\n",
    "        self.group_means = []\n",
    "        self.group_sizes = []\n",
    "        grand_mean = data[value_col].mean()\n",
    "\n",
    "        # Compute the Sum of Squares Within (SSW)\n",
    "        ssw = 0\n",
    "        for g in groups:\n",
    "            group_data = data[data[group_col] == g][value_col]\n",
    "            m = group_data.mean()\n",
    "            n = len(group_data)\n",
    "            ssw += ((group_data - m) ** 2).sum()\n",
    "\n",
    "            self.group_means.append(m)\n",
    "            self.group_sizes.append(n)\n",
    "\n",
    "        # Compute the Total Sum of Squares (SST)\n",
    "        group_data = data[value_col]\n",
    "        sst = ((group_data - grand_mean) ** 2).sum()\n",
    "\n",
    "        # Compute the Between-group Sum of Squares (SSB)\n",
    "        ssb = sst - ssw\n",
    "\n",
    "        # Degrees of freedom\n",
    "        dfb = len(groups) - 1\n",
    "        self.df_within = len(data) - len(groups)\n",
    "\n",
    "        # Mean Square Between and Mean Square Within\n",
    "        self.msb = ssb / dfb\n",
    "        self.msw = ssw / self.df_within\n",
    "\n",
    "        # F-statistic\n",
    "        self.f_stats = self.msb / self.msw\n",
    "        self.p_value = 1 - f.cdf(self.f_stats, dfb, self.df_within)\n",
    "\n",
    "        print(f'F-Value: {self.f_stats}')\n",
    "        print(f'P-Value: {self.p_value}')\n",
    "\n",
    "    # Make predictions based on the ANOVA result\n",
    "    def predict(self):\n",
    "        if self.p_value < 0.05:\n",
    "            print(\"Reject the null hypothesis: At least one group mean is different.\")\n",
    "        else:\n",
    "            print(\"Fail to reject the null hypothesis: No significant difference between group means.\")\n",
    "\n",
    "    # Function to get the q-value for Duncan's Test from a Studentized Range distribution\n",
    "    def get_q_value(self, dfw, num_groups, alpha=0.05):\n",
    "        \"\"\"\n",
    "        This function returns the q-value for Duncan's test based on the given dfw\n",
    "        (degrees of freedom for error) and number of groups.\n",
    "        \"\"\"\n",
    "        # Calculate the critical value for the studentized range distribution\n",
    "        q_value = studentized_range.ppf(1 - alpha, num_groups, dfw)\n",
    "        return q_value\n",
    "\n",
    "    # Perform Duncan's Test for pairwise comparisons\n",
    "    def duncan_test(self, alpha=0.05):\n",
    "        # Check if ANOVA is significant\n",
    "        if self.p_value >= alpha:\n",
    "            print(\"ANOVA is not significant, skipping Duncan's Test.\")\n",
    "            return\n",
    "        \n",
    "        # Compute the Standard Error (SE)\n",
    "        n = self.group_sizes[0]  # Assuming equal sample sizes for simplicity\n",
    "        self.se = np.sqrt(self.msw / n)\n",
    "\n",
    "        # Look up the q-value for the given degrees of freedom and number of groups\n",
    "        num_groups = len(self.group_means)\n",
    "        q_value = self.get_q_value(self.df_within, num_groups)\n",
    "\n",
    "        if q_value:\n",
    "            self.dcr = q_value * self.se\n",
    "            print(f\"Duncan Critical Range (DCR): {self.dcr}\")\n",
    "        else:\n",
    "            return\n",
    "\n",
    "        # Perform pairwise comparisons\n",
    "        comparisons = []\n",
    "        for i in range(num_groups):\n",
    "            for j in range(i + 1, num_groups):\n",
    "                diff = np.abs(self.group_means[i] - self.group_means[j])\n",
    "                comparisons.append((f'Group {i+1} vs Group {j+1}', diff))\n",
    "\n",
    "        # Store all the results in self.duncan_results\n",
    "        self.duncan_results = []\n",
    "        for comparison in comparisons:\n",
    "            groups_pair, diff = comparison\n",
    "            result = {\n",
    "                'pair': groups_pair,\n",
    "                'difference': diff,\n",
    "                'significant': diff >= self.dcr\n",
    "            }\n",
    "            if result['significant']:  # Only store significant results\n",
    "                self.duncan_results.append(result)\n",
    "\n",
    "        # Display only significant comparisons\n",
    "        if self.duncan_results:\n",
    "            print(\"\\nDuncan's Test Significant Results:\")\n",
    "            for result in self.duncan_results:\n",
    "                print(f\"Comparing {result['pair']}: Difference = {result['difference']} -> Significant Difference\")\n",
    "        else:\n",
    "            print(\"No significant differences found in Duncan's test.\")\n",
    "\n",
    "    # Access all Duncan test results\n",
    "    def get_all_duncan_results(self):\n",
    "        return self.duncan_results"
   ]
  },
  {
   "cell_type": "code",
   "execution_count": 76,
   "id": "30a5cb4f",
   "metadata": {},
   "outputs": [],
   "source": [
    "df = pd.read_excel(r\"C:\\Users\\saqli\\Desktop\\FULL DataSet.xlsx\")\n",
    "df_new = pd.read_excel(r\"C:\\Users\\saqli\\Desktop\\df_replicate_3.xlsx\")\n",
    "df_replicate = pd.concat([df], ignore_index=True)"
   ]
  },
  {
   "cell_type": "code",
   "execution_count": 77,
   "id": "f023ecb5",
   "metadata": {},
   "outputs": [
    {
     "name": "stdout",
     "output_type": "stream",
     "text": [
      "F-Value: 124.9318332148811\n",
      "P-Value: 2.886579864025407e-15\n"
     ]
    }
   ],
   "source": [
    "model = Duncan()\n",
    "model.fit(df_replicate, 'delta_E', 'Days')"
   ]
  },
  {
   "cell_type": "code",
   "execution_count": 78,
   "id": "dc8a654f",
   "metadata": {},
   "outputs": [
    {
     "name": "stdout",
     "output_type": "stream",
     "text": [
      "Reject the null hypothesis: At least one group mean is different.\n"
     ]
    }
   ],
   "source": [
    "model.predict()"
   ]
  },
  {
   "cell_type": "code",
   "execution_count": 79,
   "id": "3a9a1c63",
   "metadata": {},
   "outputs": [
    {
     "name": "stdout",
     "output_type": "stream",
     "text": [
      "Duncan Critical Range (DCR): 2.0204072675260694\n",
      "\n",
      "Duncan's Test Significant Results:\n",
      "Comparing Group 1 vs Group 2: Difference = 4.880521279286297 -> Significant Difference\n",
      "Comparing Group 1 vs Group 3: Difference = 12.832692816838376 -> Significant Difference\n",
      "Comparing Group 2 vs Group 3: Difference = 7.952171537552079 -> Significant Difference\n"
     ]
    }
   ],
   "source": [
    "model.duncan_test()"
   ]
  },
  {
   "cell_type": "code",
   "execution_count": 74,
   "id": "8e28a183",
   "metadata": {},
   "outputs": [
    {
     "data": {
      "text/plain": [
       "[{'pair': 'Group 1 vs Group 3',\n",
       "  'difference': 1.7335569079358595,\n",
       "  'significant': True},\n",
       " {'pair': 'Group 2 vs Group 3',\n",
       "  'difference': 1.6318589470793374,\n",
       "  'significant': True}]"
      ]
     },
     "execution_count": 74,
     "metadata": {},
     "output_type": "execute_result"
    }
   ],
   "source": [
    "model.get_all_duncan_results()"
   ]
  },
  {
   "cell_type": "code",
   "execution_count": null,
   "id": "3b84cb83",
   "metadata": {},
   "outputs": [],
   "source": []
  }
 ],
 "metadata": {
  "kernelspec": {
   "display_name": "base",
   "language": "python",
   "name": "python3"
  },
  "language_info": {
   "codemirror_mode": {
    "name": "ipython",
    "version": 3
   },
   "file_extension": ".py",
   "mimetype": "text/x-python",
   "name": "python",
   "nbconvert_exporter": "python",
   "pygments_lexer": "ipython3",
   "version": "3.12.7"
  }
 },
 "nbformat": 4,
 "nbformat_minor": 5
}
