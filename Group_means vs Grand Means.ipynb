{
 "cells": [
  {
   "cell_type": "code",
   "execution_count": 1,
   "id": "d9255415",
   "metadata": {},
   "outputs": [],
   "source": [
    "import pandas as pd"
   ]
  },
  {
   "cell_type": "code",
   "execution_count": 2,
   "id": "4006d049",
   "metadata": {},
   "outputs": [],
   "source": [
    "data = pd.DataFrame({\n",
    "    'Method': ['A', 'A', 'A', 'B', 'B', 'B', 'C', 'C', 'C'],\n",
    "    'Score': [82, 85, 88, 78, 79, 80, 90, 92, 94]\n",
    "})\n"
   ]
  },
  {
   "cell_type": "code",
   "execution_count": 4,
   "id": "3f515ae5",
   "metadata": {},
   "outputs": [],
   "source": [
    "grand_means = data['Score'].mean()\n",
    "group_means = data.groupby('Method')['Score'].mean()"
   ]
  },
  {
   "cell_type": "code",
   "execution_count": 5,
   "id": "75c33d2e",
   "metadata": {},
   "outputs": [
    {
     "data": {
      "text/plain": [
       "Method\n",
       "A    85.0\n",
       "B    79.0\n",
       "C    92.0\n",
       "Name: Score, dtype: float64"
      ]
     },
     "execution_count": 5,
     "metadata": {},
     "output_type": "execute_result"
    }
   ],
   "source": [
    "group_means"
   ]
  },
  {
   "cell_type": "code",
   "execution_count": 6,
   "id": "6b9f3a79",
   "metadata": {},
   "outputs": [
    {
     "data": {
      "text/plain": [
       "Method\n",
       "A    0.333333\n",
       "B    6.333333\n",
       "C   -6.666667\n",
       "Name: Score, dtype: float64"
      ]
     },
     "execution_count": 6,
     "metadata": {},
     "output_type": "execute_result"
    }
   ],
   "source": [
    "grand_means - group_means"
   ]
  }
 ],
 "metadata": {
  "kernelspec": {
   "display_name": "base",
   "language": "python",
   "name": "python3"
  },
  "language_info": {
   "codemirror_mode": {
    "name": "ipython",
    "version": 3
   },
   "file_extension": ".py",
   "mimetype": "text/x-python",
   "name": "python",
   "nbconvert_exporter": "python",
   "pygments_lexer": "ipython3",
   "version": "3.12.7"
  }
 },
 "nbformat": 4,
 "nbformat_minor": 5
}
